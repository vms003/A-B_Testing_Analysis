{
 "cells": [
  {
   "cell_type": "markdown",
   "metadata": {},
   "source": [
    "# A/B Testing Case Study"
   ]
  },
  {
   "cell_type": "markdown",
   "metadata": {},
   "source": [
    "Marketing A/B testing dataset\n",
    "Marketing companies want to run successful campaigns, but the market is complex and several options can work. So normally they tun A/B tests, that is a randomized experimentation process wherein two or more versions of a variable (web page, page element, banner, etc.) are shown to different segments of people at the same time to determine which version leaves the maximum impact and drive business metrics.\n",
    "\n",
    "The companies are interested in answering two questions:\n",
    "\n",
    "Would the campaign be successful?\n",
    "If the campaign was successful, how much of that success could be attributed to the ads?\n",
    "With the second question in mind, we normally do an A/B test. The majority of the people will be exposed to ads (the experimental group). And a small portion of people (the control group) would instead see a Public Service Announcement (PSA) (or nothing) in the exact size and place the ad would normally be.\n",
    "\n",
    "The idea of the dataset is to analyze the groups, find if the ads were successful, how much the company can make from the ads, and if the difference between the groups is statistically significant.\n",
    "\n",
    "Data dictionary:\n",
    "\n",
    "Index: Row index\n",
    "user id: User ID (unique)\n",
    "test group: If \"ad\" the person saw the advertisement, if \"psa\" they only saw the public service announcement\n",
    "converted: If a person bought the product then True, else is False\n",
    "total ads: Amount of ads seen by person\n",
    "most ads day: Day that the person saw the biggest amount of ads\n",
    "most ads hour: Hour of day that the person saw the biggest amount of ads"
   ]
  },
  {
   "cell_type": "code",
   "execution_count": 2,
   "metadata": {},
   "outputs": [],
   "source": [
    "import numpy as np \n",
    "import pandas as pd\n",
    "import matplotlib.pyplot as plt\n",
    "import seaborn as sns\n",
    "\n",
    "from scipy.stats import chi2_contingency, ttest_ind\n",
    "\n",
    "import warnings\n",
    "warnings.filterwarnings(\"ignore\")"
   ]
  },
  {
   "cell_type": "code",
   "execution_count": 3,
   "metadata": {},
   "outputs": [],
   "source": [
    "df = pd.read_csv(\"marketing_AB.csv\")"
   ]
  },
  {
   "cell_type": "code",
   "execution_count": 4,
   "metadata": {},
   "outputs": [
    {
     "data": {
      "text/html": [
       "<div>\n",
       "<style scoped>\n",
       "    .dataframe tbody tr th:only-of-type {\n",
       "        vertical-align: middle;\n",
       "    }\n",
       "\n",
       "    .dataframe tbody tr th {\n",
       "        vertical-align: top;\n",
       "    }\n",
       "\n",
       "    .dataframe thead th {\n",
       "        text-align: right;\n",
       "    }\n",
       "</style>\n",
       "<table border=\"1\" class=\"dataframe\">\n",
       "  <thead>\n",
       "    <tr style=\"text-align: right;\">\n",
       "      <th></th>\n",
       "      <th>Unnamed: 0</th>\n",
       "      <th>user id</th>\n",
       "      <th>test group</th>\n",
       "      <th>converted</th>\n",
       "      <th>total ads</th>\n",
       "      <th>most ads day</th>\n",
       "      <th>most ads hour</th>\n",
       "    </tr>\n",
       "  </thead>\n",
       "  <tbody>\n",
       "    <tr>\n",
       "      <th>0</th>\n",
       "      <td>0</td>\n",
       "      <td>1069124</td>\n",
       "      <td>ad</td>\n",
       "      <td>False</td>\n",
       "      <td>130</td>\n",
       "      <td>Monday</td>\n",
       "      <td>20</td>\n",
       "    </tr>\n",
       "    <tr>\n",
       "      <th>1</th>\n",
       "      <td>1</td>\n",
       "      <td>1119715</td>\n",
       "      <td>ad</td>\n",
       "      <td>False</td>\n",
       "      <td>93</td>\n",
       "      <td>Tuesday</td>\n",
       "      <td>22</td>\n",
       "    </tr>\n",
       "    <tr>\n",
       "      <th>2</th>\n",
       "      <td>2</td>\n",
       "      <td>1144181</td>\n",
       "      <td>ad</td>\n",
       "      <td>False</td>\n",
       "      <td>21</td>\n",
       "      <td>Tuesday</td>\n",
       "      <td>18</td>\n",
       "    </tr>\n",
       "    <tr>\n",
       "      <th>3</th>\n",
       "      <td>3</td>\n",
       "      <td>1435133</td>\n",
       "      <td>ad</td>\n",
       "      <td>False</td>\n",
       "      <td>355</td>\n",
       "      <td>Tuesday</td>\n",
       "      <td>10</td>\n",
       "    </tr>\n",
       "    <tr>\n",
       "      <th>4</th>\n",
       "      <td>4</td>\n",
       "      <td>1015700</td>\n",
       "      <td>ad</td>\n",
       "      <td>False</td>\n",
       "      <td>276</td>\n",
       "      <td>Friday</td>\n",
       "      <td>14</td>\n",
       "    </tr>\n",
       "    <tr>\n",
       "      <th>...</th>\n",
       "      <td>...</td>\n",
       "      <td>...</td>\n",
       "      <td>...</td>\n",
       "      <td>...</td>\n",
       "      <td>...</td>\n",
       "      <td>...</td>\n",
       "      <td>...</td>\n",
       "    </tr>\n",
       "    <tr>\n",
       "      <th>588096</th>\n",
       "      <td>588096</td>\n",
       "      <td>1278437</td>\n",
       "      <td>ad</td>\n",
       "      <td>False</td>\n",
       "      <td>1</td>\n",
       "      <td>Tuesday</td>\n",
       "      <td>23</td>\n",
       "    </tr>\n",
       "    <tr>\n",
       "      <th>588097</th>\n",
       "      <td>588097</td>\n",
       "      <td>1327975</td>\n",
       "      <td>ad</td>\n",
       "      <td>False</td>\n",
       "      <td>1</td>\n",
       "      <td>Tuesday</td>\n",
       "      <td>23</td>\n",
       "    </tr>\n",
       "    <tr>\n",
       "      <th>588098</th>\n",
       "      <td>588098</td>\n",
       "      <td>1038442</td>\n",
       "      <td>ad</td>\n",
       "      <td>False</td>\n",
       "      <td>3</td>\n",
       "      <td>Tuesday</td>\n",
       "      <td>23</td>\n",
       "    </tr>\n",
       "    <tr>\n",
       "      <th>588099</th>\n",
       "      <td>588099</td>\n",
       "      <td>1496395</td>\n",
       "      <td>ad</td>\n",
       "      <td>False</td>\n",
       "      <td>1</td>\n",
       "      <td>Tuesday</td>\n",
       "      <td>23</td>\n",
       "    </tr>\n",
       "    <tr>\n",
       "      <th>588100</th>\n",
       "      <td>588100</td>\n",
       "      <td>1237779</td>\n",
       "      <td>ad</td>\n",
       "      <td>False</td>\n",
       "      <td>1</td>\n",
       "      <td>Tuesday</td>\n",
       "      <td>23</td>\n",
       "    </tr>\n",
       "  </tbody>\n",
       "</table>\n",
       "<p>588101 rows × 7 columns</p>\n",
       "</div>"
      ],
      "text/plain": [
       "        Unnamed: 0  user id test group  converted  total ads most ads day  \\\n",
       "0                0  1069124         ad      False        130       Monday   \n",
       "1                1  1119715         ad      False         93      Tuesday   \n",
       "2                2  1144181         ad      False         21      Tuesday   \n",
       "3                3  1435133         ad      False        355      Tuesday   \n",
       "4                4  1015700         ad      False        276       Friday   \n",
       "...            ...      ...        ...        ...        ...          ...   \n",
       "588096      588096  1278437         ad      False          1      Tuesday   \n",
       "588097      588097  1327975         ad      False          1      Tuesday   \n",
       "588098      588098  1038442         ad      False          3      Tuesday   \n",
       "588099      588099  1496395         ad      False          1      Tuesday   \n",
       "588100      588100  1237779         ad      False          1      Tuesday   \n",
       "\n",
       "        most ads hour  \n",
       "0                  20  \n",
       "1                  22  \n",
       "2                  18  \n",
       "3                  10  \n",
       "4                  14  \n",
       "...               ...  \n",
       "588096             23  \n",
       "588097             23  \n",
       "588098             23  \n",
       "588099             23  \n",
       "588100             23  \n",
       "\n",
       "[588101 rows x 7 columns]"
      ]
     },
     "execution_count": 4,
     "metadata": {},
     "output_type": "execute_result"
    }
   ],
   "source": [
    "df"
   ]
  },
  {
   "cell_type": "code",
   "execution_count": 5,
   "metadata": {},
   "outputs": [
    {
     "data": {
      "text/plain": [
       "Index(['Unnamed: 0', 'user id', 'test group', 'converted', 'total ads',\n",
       "       'most ads day', 'most ads hour'],\n",
       "      dtype='object')"
      ]
     },
     "execution_count": 5,
     "metadata": {},
     "output_type": "execute_result"
    }
   ],
   "source": [
    "df.columns"
   ]
  },
  {
   "cell_type": "code",
   "execution_count": 6,
   "metadata": {},
   "outputs": [
    {
     "data": {
      "text/plain": [
       "Unnamed: 0       588101\n",
       "user id          588101\n",
       "test group            2\n",
       "converted             2\n",
       "total ads           807\n",
       "most ads day          7\n",
       "most ads hour        24\n",
       "dtype: int64"
      ]
     },
     "execution_count": 6,
     "metadata": {},
     "output_type": "execute_result"
    }
   ],
   "source": [
    "df.nunique()"
   ]
  },
  {
   "cell_type": "code",
   "execution_count": 7,
   "metadata": {},
   "outputs": [],
   "source": [
    "df = df.drop(columns=['Unnamed: 0']) "
   ]
  },
  {
   "cell_type": "code",
   "execution_count": 8,
   "metadata": {},
   "outputs": [
    {
     "data": {
      "text/html": [
       "<div>\n",
       "<style scoped>\n",
       "    .dataframe tbody tr th:only-of-type {\n",
       "        vertical-align: middle;\n",
       "    }\n",
       "\n",
       "    .dataframe tbody tr th {\n",
       "        vertical-align: top;\n",
       "    }\n",
       "\n",
       "    .dataframe thead th {\n",
       "        text-align: right;\n",
       "    }\n",
       "</style>\n",
       "<table border=\"1\" class=\"dataframe\">\n",
       "  <thead>\n",
       "    <tr style=\"text-align: right;\">\n",
       "      <th></th>\n",
       "      <th>user id</th>\n",
       "      <th>test group</th>\n",
       "      <th>converted</th>\n",
       "      <th>total ads</th>\n",
       "      <th>most ads day</th>\n",
       "      <th>most ads hour</th>\n",
       "    </tr>\n",
       "  </thead>\n",
       "  <tbody>\n",
       "    <tr>\n",
       "      <th>0</th>\n",
       "      <td>1069124</td>\n",
       "      <td>ad</td>\n",
       "      <td>False</td>\n",
       "      <td>130</td>\n",
       "      <td>Monday</td>\n",
       "      <td>20</td>\n",
       "    </tr>\n",
       "    <tr>\n",
       "      <th>1</th>\n",
       "      <td>1119715</td>\n",
       "      <td>ad</td>\n",
       "      <td>False</td>\n",
       "      <td>93</td>\n",
       "      <td>Tuesday</td>\n",
       "      <td>22</td>\n",
       "    </tr>\n",
       "    <tr>\n",
       "      <th>2</th>\n",
       "      <td>1144181</td>\n",
       "      <td>ad</td>\n",
       "      <td>False</td>\n",
       "      <td>21</td>\n",
       "      <td>Tuesday</td>\n",
       "      <td>18</td>\n",
       "    </tr>\n",
       "    <tr>\n",
       "      <th>3</th>\n",
       "      <td>1435133</td>\n",
       "      <td>ad</td>\n",
       "      <td>False</td>\n",
       "      <td>355</td>\n",
       "      <td>Tuesday</td>\n",
       "      <td>10</td>\n",
       "    </tr>\n",
       "    <tr>\n",
       "      <th>4</th>\n",
       "      <td>1015700</td>\n",
       "      <td>ad</td>\n",
       "      <td>False</td>\n",
       "      <td>276</td>\n",
       "      <td>Friday</td>\n",
       "      <td>14</td>\n",
       "    </tr>\n",
       "    <tr>\n",
       "      <th>...</th>\n",
       "      <td>...</td>\n",
       "      <td>...</td>\n",
       "      <td>...</td>\n",
       "      <td>...</td>\n",
       "      <td>...</td>\n",
       "      <td>...</td>\n",
       "    </tr>\n",
       "    <tr>\n",
       "      <th>588096</th>\n",
       "      <td>1278437</td>\n",
       "      <td>ad</td>\n",
       "      <td>False</td>\n",
       "      <td>1</td>\n",
       "      <td>Tuesday</td>\n",
       "      <td>23</td>\n",
       "    </tr>\n",
       "    <tr>\n",
       "      <th>588097</th>\n",
       "      <td>1327975</td>\n",
       "      <td>ad</td>\n",
       "      <td>False</td>\n",
       "      <td>1</td>\n",
       "      <td>Tuesday</td>\n",
       "      <td>23</td>\n",
       "    </tr>\n",
       "    <tr>\n",
       "      <th>588098</th>\n",
       "      <td>1038442</td>\n",
       "      <td>ad</td>\n",
       "      <td>False</td>\n",
       "      <td>3</td>\n",
       "      <td>Tuesday</td>\n",
       "      <td>23</td>\n",
       "    </tr>\n",
       "    <tr>\n",
       "      <th>588099</th>\n",
       "      <td>1496395</td>\n",
       "      <td>ad</td>\n",
       "      <td>False</td>\n",
       "      <td>1</td>\n",
       "      <td>Tuesday</td>\n",
       "      <td>23</td>\n",
       "    </tr>\n",
       "    <tr>\n",
       "      <th>588100</th>\n",
       "      <td>1237779</td>\n",
       "      <td>ad</td>\n",
       "      <td>False</td>\n",
       "      <td>1</td>\n",
       "      <td>Tuesday</td>\n",
       "      <td>23</td>\n",
       "    </tr>\n",
       "  </tbody>\n",
       "</table>\n",
       "<p>588101 rows × 6 columns</p>\n",
       "</div>"
      ],
      "text/plain": [
       "        user id test group  converted  total ads most ads day  most ads hour\n",
       "0       1069124         ad      False        130       Monday             20\n",
       "1       1119715         ad      False         93      Tuesday             22\n",
       "2       1144181         ad      False         21      Tuesday             18\n",
       "3       1435133         ad      False        355      Tuesday             10\n",
       "4       1015700         ad      False        276       Friday             14\n",
       "...         ...        ...        ...        ...          ...            ...\n",
       "588096  1278437         ad      False          1      Tuesday             23\n",
       "588097  1327975         ad      False          1      Tuesday             23\n",
       "588098  1038442         ad      False          3      Tuesday             23\n",
       "588099  1496395         ad      False          1      Tuesday             23\n",
       "588100  1237779         ad      False          1      Tuesday             23\n",
       "\n",
       "[588101 rows x 6 columns]"
      ]
     },
     "execution_count": 8,
     "metadata": {},
     "output_type": "execute_result"
    }
   ],
   "source": [
    "df"
   ]
  },
  {
   "cell_type": "code",
   "execution_count": 9,
   "metadata": {},
   "outputs": [
    {
     "name": "stdout",
     "output_type": "stream",
     "text": [
      "['ad' 'psa']\n"
     ]
    }
   ],
   "source": [
    "print(df['test group'].unique())"
   ]
  },
  {
   "cell_type": "markdown",
   "metadata": {},
   "source": [
    "preprocess data"
   ]
  },
  {
   "cell_type": "code",
   "execution_count": 10,
   "metadata": {},
   "outputs": [],
   "source": [
    "df['converted'] = df['converted'].astype(int)  \n",
    "df['most ads day'] = df['most ads day'].astype('category')  "
   ]
  },
  {
   "cell_type": "markdown",
   "metadata": {},
   "source": [
    "EDA"
   ]
  },
  {
   "cell_type": "code",
   "execution_count": 11,
   "metadata": {},
   "outputs": [
    {
     "name": "stdout",
     "output_type": "stream",
     "text": [
      "Conversion Rates by Group:\n",
      " test group\n",
      "ad     0.025547\n",
      "psa    0.017854\n",
      "Name: converted, dtype: float64\n"
     ]
    },
    {
     "data": {
      "image/png": "[encoded data removed]",
      "text/plain": [
       "<Figure size 640x480 with 1 Axes>"
      ]
     },
     "metadata": {},
     "output_type": "display_data"
    }
   ],
   "source": [
    "# Conversion rate by group\n",
    "group_conversion = df.groupby('test group')['converted'].mean()\n",
    "print(\"Conversion Rates by Group:\\n\", group_conversion)\n",
    "\n",
    "# Visualize conversion rates\n",
    "sns.barplot(x='test group', y='converted', data=df)\n",
    "plt.title('Conversion Rate by Test Group')\n",
    "plt.show()"
   ]
  },
  {
   "cell_type": "code",
   "execution_count": 12,
   "metadata": {},
   "outputs": [
    {
     "name": "stdout",
     "output_type": "stream",
     "text": [
      "Average Total Ads by Group:\n",
      " test group\n",
      "ad     24.823365\n",
      "psa    24.761138\n",
      "Name: total ads, dtype: float64\n"
     ]
    },
    {
     "data": {
      "image/png": "[encoded data removed]",
      "text/plain": [
       "<Figure size 640x480 with 1 Axes>"
      ]
     },
     "metadata": {},
     "output_type": "display_data"
    }
   ],
   "source": [
    "# Ads analysis\n",
    "ads_stats = df.groupby('test group')['total ads'].mean()\n",
    "print(\"Average Total Ads by Group:\\n\", ads_stats)\n",
    "\n",
    "# Visualize ads distribution\n",
    "sns.boxplot(x='test group', y='total ads', data=df)\n",
    "plt.title('Total Ads Distribution by Test Group')\n",
    "plt.show()"
   ]
  },
  {
   "cell_type": "markdown",
   "metadata": {},
   "source": [
    "Hypothesis Testing"
   ]
  },
  {
   "cell_type": "code",
   "execution_count": 13,
   "metadata": {},
   "outputs": [
    {
     "name": "stdout",
     "output_type": "stream",
     "text": [
      "Chi-Square Test p-value: 1.9989623063390075e-13\n"
     ]
    }
   ],
   "source": [
    "# Chi-Square Test for conversion rates\n",
    "contingency_table = pd.crosstab(df['test group'], df['converted'])\n",
    "chi2, p, _, _ = chi2_contingency(contingency_table)\n",
    "print(f\"Chi-Square Test p-value: {p}\")"
   ]
  },
  {
   "cell_type": "code",
   "execution_count": 14,
   "metadata": {},
   "outputs": [
    {
     "name": "stdout",
     "output_type": "stream",
     "text": [
      "Control group data not available for T-Test.\n"
     ]
    }
   ],
   "source": [
    "# T-Test for total ads\n",
    "test_group_ads = df[df['test group'] == 'ad']['total ads']\n",
    "control_group_ads = df[df['test group'] == 'control']['total ads'] if 'control' in df['test group'].values else pd.Series()\n",
    "if not control_group_ads.empty:\n",
    "    t_stat, p_value = ttest_ind(test_group_ads, control_group_ads)\n",
    "    print(f\"T-Test p-value: {p_value}\")\n",
    "else:\n",
    "    print(\"Control group data not available for T-Test.\")"
   ]
  },
  {
   "cell_type": "markdown",
   "metadata": {},
   "source": [
    "Insights"
   ]
  },
  {
   "cell_type": "code",
   "execution_count": 15,
   "metadata": {},
   "outputs": [
    {
     "name": "stdout",
     "output_type": "stream",
     "text": [
      "Significant difference in conversion rates (Chi-Square Test).\n"
     ]
    }
   ],
   "source": [
    "if p < 0.05:\n",
    "    print(\"Significant difference in conversion rates (Chi-Square Test).\")\n",
    "else:\n",
    "    print(\"No significant difference in conversion rates.\")"
   ]
  },
  {
   "cell_type": "markdown",
   "metadata": {},
   "source": [
    "1. Segmentation Analysis"
   ]
  },
  {
   "cell_type": "code",
   "execution_count": 16,
   "metadata": {},
   "outputs": [
    {
     "name": "stdout",
     "output_type": "stream",
     "text": [
      "Conversion Rate by Day of the Week:\n",
      " most ads day\n",
      "Friday       0.022212\n",
      "Monday       0.032812\n",
      "Saturday     0.021051\n",
      "Sunday       0.024476\n",
      "Thursday     0.021571\n",
      "Tuesday      0.029840\n",
      "Wednesday    0.024942\n",
      "Name: converted, dtype: float64\n"
     ]
    }
   ],
   "source": [
    "# Conversion rate by day of the week\n",
    "day_conversion = df.groupby('most ads day')['converted'].mean()\n",
    "print(\"Conversion Rate by Day of the Week:\\n\", day_conversion)"
   ]
  },
  {
   "cell_type": "code",
   "execution_count": 19,
   "metadata": {},
   "outputs": [
    {
     "data": {
      "image/png": "[encoded data removed]",
      "text/plain": [
       "<Figure size 640x480 with 1 Axes>"
      ]
     },
     "metadata": {},
     "output_type": "display_data"
    }
   ],
   "source": [
    "# Visualize day-based conversion rates\n",
    "sns.barplot(x=day_conversion.index, y=day_conversion.values)\n",
    "plt.title('Conversion Rate by Day of the Week')\n",
    "plt.ylabel('Conversion Rate')\n",
    "plt.xlabel('Day')\n",
    "plt.show()"
   ]
  },
  {
   "cell_type": "code",
   "execution_count": 17,
   "metadata": {},
   "outputs": [
    {
     "name": "stdout",
     "output_type": "stream",
     "text": [
      "Conversion Rate by Hour of the Day:\n",
      " most ads hour\n",
      "0     0.018425\n",
      "1     0.012911\n",
      "2     0.007313\n",
      "3     0.010452\n",
      "4     0.015235\n",
      "5     0.020915\n",
      "6     0.022244\n",
      "7     0.018111\n",
      "8     0.019516\n",
      "9     0.019191\n",
      "10    0.021521\n",
      "11    0.022116\n",
      "12    0.023828\n",
      "13    0.024677\n",
      "14    0.028063\n",
      "15    0.029653\n",
      "16    0.030772\n",
      "17    0.028210\n",
      "18    0.027380\n",
      "19    0.026720\n",
      "20    0.029803\n",
      "21    0.028923\n",
      "22    0.026105\n",
      "23    0.022662\n",
      "Name: converted, dtype: float64\n"
     ]
    }
   ],
   "source": [
    "# Conversion rate by hour of the day\n",
    "hour_conversion = df.groupby('most ads hour')['converted'].mean()\n",
    "print(\"Conversion Rate by Hour of the Day:\\n\", hour_conversion)"
   ]
  },
  {
   "cell_type": "code",
   "execution_count": 18,
   "metadata": {},
   "outputs": [
    {
     "data": {
      "image/png": "[encoded data removed]",
      "text/plain": [
       "<Figure size 640x480 with 1 Axes>"
      ]
     },
     "metadata": {},
     "output_type": "display_data"
    }
   ],
   "source": [
    "# Visualize hour-based conversion rates\n",
    "sns.lineplot(x=hour_conversion.index, y=hour_conversion.values)\n",
    "plt.title('Conversion Rate by Hour of the Day')\n",
    "plt.ylabel('Conversion Rate')\n",
    "plt.xlabel('Hour')\n",
    "plt.show()"
   ]
  },
  {
   "cell_type": "markdown",
   "metadata": {},
   "source": [
    "2. Predictive Modeling"
   ]
  },
  {
   "cell_type": "code",
   "execution_count": 20,
   "metadata": {},
   "outputs": [],
   "source": [
    "from sklearn.model_selection import train_test_split\n",
    "from sklearn.ensemble import RandomForestClassifier\n",
    "from sklearn.metrics import classification_report, roc_auc_score\n",
    "\n",
    "# Prepare data for modeling\n",
    "X = df[['total ads', 'most ads day', 'most ads hour']]\n",
    "X = pd.get_dummies(X, columns=['most ads day'], drop_first=True)  # One-hot encode categorical column\n",
    "y = df['converted']"
   ]
  },
  {
   "cell_type": "code",
   "execution_count": 21,
   "metadata": {},
   "outputs": [
    {
     "name": "stdout",
     "output_type": "stream",
     "text": [
      "              precision    recall  f1-score   support\n",
      "\n",
      "           0       0.98      0.99      0.98    171970\n",
      "           1       0.18      0.05      0.08      4461\n",
      "\n",
      "    accuracy                           0.97    176431\n",
      "   macro avg       0.58      0.52      0.53    176431\n",
      "weighted avg       0.96      0.97      0.96    176431\n",
      "\n",
      "ROC AUC Score: 0.6673114131079384\n"
     ]
    }
   ],
   "source": [
    "# Split data\n",
    "X_train, X_test, y_train, y_test = train_test_split(X, y, test_size=0.3, random_state=42)\n",
    "\n",
    "# Train a Random Forest model\n",
    "model = RandomForestClassifier(random_state=42)\n",
    "model.fit(X_train, y_train)\n",
    "\n",
    "# Evaluate the model\n",
    "y_pred = model.predict(X_test)\n",
    "print(classification_report(y_test, y_pred))\n",
    "print(\"ROC AUC Score:\", roc_auc_score(y_test, model.predict_proba(X_test)[:, 1]))"
   ]
  },
  {
   "cell_type": "markdown",
   "metadata": {},
   "source": [
    "3. Interaction Effects"
   ]
  },
  {
   "cell_type": "code",
   "execution_count": 22,
   "metadata": {},
   "outputs": [
    {
     "name": "stdout",
     "output_type": "stream",
     "text": [
      "Optimization terminated successfully.\n",
      "         Current function value: 0.108568\n",
      "         Iterations 8\n",
      "                           Logit Regression Results                           \n",
      "==============================================================================\n",
      "Dep. Variable:              converted   No. Observations:               588101\n",
      "Model:                          Logit   Df Residuals:                   588097\n",
      "Method:                           MLE   Df Model:                            3\n",
      "Date:                Wed, 18 Dec 2024   Pseudo R-squ.:                 0.07822\n",
      "Time:                        21:28:07   Log-Likelihood:                -63849.\n",
      "converged:                       True   LL-Null:                       -69267.\n",
      "Covariance Type:            nonrobust   LLR p-value:                     0.000\n",
      "========================================================================================\n",
      "                           coef    std err          z      P>|z|      [0.025      0.975]\n",
      "----------------------------------------------------------------------------------------\n",
      "const                   -4.3033      0.033   -130.636      0.000      -4.368      -4.239\n",
      "total ads                0.0057      0.000     18.136      0.000       0.005       0.006\n",
      "most ads hour            0.0162      0.002      7.654      0.000       0.012       0.020\n",
      "ads_hour_interaction     0.0003   2.11e-05     15.170      0.000       0.000       0.000\n",
      "========================================================================================\n"
     ]
    }
   ],
   "source": [
    "import statsmodels.api as sm\n",
    "\n",
    "# Interaction terms\n",
    "df['ads_hour_interaction'] = df['total ads'] * df['most ads hour']\n",
    "\n",
    "# Logistic regression model\n",
    "X = df[['total ads', 'most ads hour', 'ads_hour_interaction']]\n",
    "X = sm.add_constant(X)  # Add constant for intercept\n",
    "y = df['converted']\n",
    "\n",
    "model = sm.Logit(y, X).fit()\n",
    "print(model.summary())"
   ]
  },
  {
   "cell_type": "markdown",
   "metadata": {},
   "source": [
    "4. Incrementality Testing"
   ]
  },
  {
   "cell_type": "code",
   "execution_count": 23,
   "metadata": {},
   "outputs": [
    {
     "name": "stdout",
     "output_type": "stream",
     "text": [
      "Incremental Lift: 0.77%\n"
     ]
    }
   ],
   "source": [
    "# Calculate incremental lift\n",
    "incremental_lift = group_conversion['ad'] - group_conversion['psa']\n",
    "print(f\"Incremental Lift: {incremental_lift:.2%}\")"
   ]
  },
  {
   "cell_type": "code",
   "execution_count": null,
   "metadata": {},
   "outputs": [],
   "source": []
  }
 ],
 "metadata": {
  "kernelspec": {
   "display_name": "Python 3",
   "language": "python",
   "name": "python3"
  },
  "language_info": {
   "codemirror_mode": {
    "name": "ipython",
    "version": 3
   },
   "file_extension": ".py",
   "mimetype": "text/x-python",
   "name": "python",
   "nbconvert_exporter": "python",
   "pygments_lexer": "ipython3",
   "version": "3.12.6"
  }
 },
 "nbformat": 4,
 "nbformat_minor": 2
}
